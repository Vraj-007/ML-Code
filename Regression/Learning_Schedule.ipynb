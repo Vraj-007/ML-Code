{
 "cells": [
  {
   "cell_type": "code",
   "execution_count": null,
   "metadata": {},
   "outputs": [],
   "source": [
    "t0 = 5\n",
    "t1 = 50\n",
    "\n",
    "# Use in Stochastic Gradient Descent\n",
    "# We change our learning rate with epochs\n",
    "\n",
    "def learning_rate(t):\n",
    "    return t0/(t + t1)\n",
    "\n",
    "# Stochastic Gradient code.....\n",
    "\n",
    "\n",
    "\n",
    "# init coeffs and intercept\n",
    "self.intercept_ = 0\n",
    "self.coef_ = np.ones(X_train.shape[1])\n",
    "\n",
    "# m = Total no. of rows\n",
    "m = X_train.shape[0]\n",
    "\n",
    "for i in range(epochs):\n",
    "    \n",
    "    for j in range(m):\n",
    "        # Selecting a random point\n",
    "        idx = np.random.randint(0, m) # Range as parameters\n",
    "\n",
    "\n",
    "        # Defining our learning rate\n",
    "        t = i * m + j\n",
    "        lr = learning_rate(t)\n",
    "\n",
    "\n",
    "        # Calculating y_hat for selected random point\n",
    "        y_hat = np.dot(coef_, X_train[idx]) + intercept_\n",
    "\n",
    "\n",
    "        # intercept slope\n",
    "        intercept_slope = -2 * (y_train[idx] - y_hat)\n",
    "        # Coef slope\n",
    "        coef_slope = -2 * np.dot(y_train[idx] - y_hat, X_train[idx])\n",
    "\n",
    "\n",
    "        # Update intercept\n",
    "        intercept_ -= (lr)*(intercept_slope)\n",
    "        # Update coef\n",
    "        coef_ -= (lr)*(coef_slope)"
   ]
  }
 ],
 "metadata": {
  "language_info": {
   "name": "python"
  },
  "orig_nbformat": 4
 },
 "nbformat": 4,
 "nbformat_minor": 2
}
