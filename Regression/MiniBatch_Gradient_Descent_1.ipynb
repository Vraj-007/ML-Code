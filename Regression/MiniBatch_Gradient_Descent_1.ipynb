{
 "cells": [
  {
   "cell_type": "code",
   "execution_count": 1,
   "metadata": {},
   "outputs": [],
   "source": [
    "from sklearn.datasets import load_diabetes\n",
    "import numpy as np\n",
    "from sklearn.linear_model import LinearRegression\n",
    "from sklearn.metrics import r2_score\n",
    "from sklearn.model_selection import train_test_split"
   ]
  },
  {
   "cell_type": "code",
   "execution_count": 2,
   "metadata": {},
   "outputs": [],
   "source": [
    "X, y = load_diabetes(return_X_y=True)"
   ]
  },
  {
   "cell_type": "code",
   "execution_count": 3,
   "metadata": {},
   "outputs": [
    {
     "name": "stdout",
     "output_type": "stream",
     "text": [
      " X shape : (442, 10)\n",
      " y shape : (442,)\n"
     ]
    }
   ],
   "source": [
    "print(f\" X shape : {X.shape}\")\n",
    "print(f\" y shape : {y.shape}\")"
   ]
  },
  {
   "cell_type": "code",
   "execution_count": 4,
   "metadata": {},
   "outputs": [],
   "source": [
    "X_train, X_test, y_train, y_test = train_test_split(X, y, test_size=0.2, random_state=2)"
   ]
  },
  {
   "cell_type": "code",
   "execution_count": 5,
   "metadata": {},
   "outputs": [
    {
     "name": "stdout",
     "output_type": "stream",
     "text": [
      "r2 score : 0.4399338661568968\n"
     ]
    }
   ],
   "source": [
    "model = LinearRegression()\n",
    "\n",
    "model.fit(X_train, y_train)\n",
    "\n",
    "print(f\"r2 score : {r2_score(y_test, model.predict(X_test))}\")"
   ]
  },
  {
   "cell_type": "code",
   "execution_count": 6,
   "metadata": {},
   "outputs": [],
   "source": [
    "import random"
   ]
  },
  {
   "cell_type": "code",
   "execution_count": 7,
   "metadata": {},
   "outputs": [],
   "source": [
    "class MBGDRegressor:\n",
    "\n",
    "    def __init__(self, learning_rate = 0.01, epochs = 100, batch_size = 20):\n",
    "        self.lr = learning_rate\n",
    "        self.epochs = epochs\n",
    "        self.coef_ = None\n",
    "        self.intercept_ = None\n",
    "        self.batch_size = batch_size\n",
    "\n",
    "    def fit(self, X_train, y_train):\n",
    "        # init coeffs and intercept\n",
    "        self.intercept_ = 0\n",
    "        self.coef_ = np.ones(X_train.shape[1])\n",
    "\n",
    "        m = X_train.shape[0]\n",
    "\n",
    "        for i in range(self.epochs):\n",
    "            # Counting no. of iterations\n",
    "            itrs = int(m / self.batch_size)\n",
    "\n",
    "            for j in range(itrs):\n",
    "\n",
    "                # Generating random points of size = batch_size\n",
    "                idx = random.sample(range(m), self.batch_size)\n",
    "\n",
    "                # Predict values for whole Batch\n",
    "                y_hat = np.dot(X_train[idx], self.coef_) + self.intercept_\n",
    "\n",
    "                # Calculating Slopes\n",
    "                coef_slope = -2 * np.dot((y_train[idx] - y_hat), X_train[idx])\n",
    "                intercept_slope = -2 * np.mean(y_train[idx] - y_hat)\n",
    "\n",
    "                # Updating parameters\n",
    "                self.coef_ -= (self.lr)*(coef_slope)\n",
    "                self.intercept_ -= (self.lr)*(intercept_slope)\n",
    "\n",
    "\n",
    "        print(f\"Coeff : \\n {self.coef_}\\n\")\n",
    "        print(f\"intercept : {self.intercept_}\\n\")\n",
    "    \n",
    "\n",
    "    def predict(self, X_test):\n",
    "        return self.intercept_ + np.dot(X_test, self.coef_)\n",
    "\n",
    "    def coef_(self):\n",
    "        return self.coef_\n",
    "\n",
    "    def intercept_(self):\n",
    "        return self.intercept_"
   ]
  },
  {
   "cell_type": "code",
   "execution_count": 17,
   "metadata": {},
   "outputs": [
    {
     "name": "stdout",
     "output_type": "stream",
     "text": [
      "Coeff : \n",
      " [  23.72477631 -130.85305995  454.45613627  293.6112709   -24.45283834\n",
      "  -87.747868   -198.92353373  113.9511199   406.98091282  114.02412996]\n",
      "\n",
      "intercept : 152.43275776289363\n",
      "\n",
      "r2 Score : 0.45390731903528925\n"
     ]
    }
   ],
   "source": [
    "model = MBGDRegressor(0.01, 100, 20)\n",
    "\n",
    "model.fit(X_train, y_train)\n",
    "\n",
    "\n",
    "print(f\"r2 Score : {r2_score(y_test, model.predict(X_test))}\")"
   ]
  }
 ],
 "metadata": {
  "kernelspec": {
   "display_name": "Python 3",
   "language": "python",
   "name": "python3"
  },
  "language_info": {
   "codemirror_mode": {
    "name": "ipython",
    "version": 3
   },
   "file_extension": ".py",
   "mimetype": "text/x-python",
   "name": "python",
   "nbconvert_exporter": "python",
   "pygments_lexer": "ipython3",
   "version": "3.11.2"
  },
  "orig_nbformat": 4
 },
 "nbformat": 4,
 "nbformat_minor": 2
}
