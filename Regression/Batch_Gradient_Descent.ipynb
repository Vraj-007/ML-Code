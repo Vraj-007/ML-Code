{
 "cells": [
  {
   "cell_type": "code",
   "execution_count": 1,
   "metadata": {},
   "outputs": [],
   "source": [
    "from sklearn.datasets import load_diabetes\n",
    "\n",
    "import numpy as np\n",
    "from sklearn.linear_model import LinearRegression\n",
    "from sklearn.metrics import r2_score\n",
    "from sklearn.model_selection import train_test_split"
   ]
  },
  {
   "cell_type": "code",
   "execution_count": 2,
   "metadata": {},
   "outputs": [],
   "source": [
    "X, y = load_diabetes(return_X_y=True)"
   ]
  },
  {
   "cell_type": "code",
   "execution_count": 3,
   "metadata": {},
   "outputs": [
    {
     "name": "stdout",
     "output_type": "stream",
     "text": [
      " X shape : (442, 10)\n",
      " y shape : (442,)\n"
     ]
    }
   ],
   "source": [
    "print(f\" X shape : {X.shape}\")\n",
    "print(f\" y shape : {y.shape}\")"
   ]
  },
  {
   "cell_type": "code",
   "execution_count": 4,
   "metadata": {},
   "outputs": [],
   "source": [
    "X_train, X_test, y_train, y_test = train_test_split(X, y, test_size=0.2, random_state=2)"
   ]
  },
  {
   "cell_type": "code",
   "execution_count": 7,
   "metadata": {},
   "outputs": [
    {
     "name": "stdout",
     "output_type": "stream",
     "text": [
      " Coeff : [  -9.15865318 -205.45432163  516.69374454  340.61999905 -895.5520019\n",
      "  561.22067904  153.89310954  126.73139688  861.12700152   52.42112238]\n",
      " intercept : 151.88331005254167\n"
     ]
    }
   ],
   "source": [
    "model = LinearRegression()\n",
    "\n",
    "model.fit(X_train, y_train)\n",
    "\n",
    "print(f\" Coeff : {model.coef_}\")\n",
    "print(f\" intercept : {model.intercept_}\")\n"
   ]
  },
  {
   "cell_type": "code",
   "execution_count": 8,
   "metadata": {},
   "outputs": [
    {
     "name": "stdout",
     "output_type": "stream",
     "text": [
      "R2 score : 0.4399338661568968\n"
     ]
    }
   ],
   "source": [
    "print(f\"R2 score : {r2_score(y_test, model.predict(X_test))}\")"
   ]
  },
  {
   "cell_type": "code",
   "execution_count": 14,
   "metadata": {},
   "outputs": [],
   "source": [
    "class GDRegressor:\n",
    "\n",
    "    def __init__(self, learning_rate = 0.01, epochs = 100):\n",
    "        self.lr = learning_rate\n",
    "        self.epochs = epochs\n",
    "        self.coef_ = None\n",
    "        self.intercept_ = None\n",
    "\n",
    "    def fit(self, X_train, y_train):\n",
    "        # init coeffs and intercept\n",
    "        self.intercept_ = 0\n",
    "        self.coef_ = np.ones(X_train.shape[1])\n",
    "\n",
    "        m = X_train.shape[0]\n",
    "\n",
    "        for i in range(self.epochs):\n",
    "            # Calculating Slope\n",
    "            # Vactorization\n",
    "            y_hat = self.intercept_ + np.dot(X_train, self.coef_)\n",
    "            intercept_slope = -2 * np.mean(y_train - y_hat)\n",
    "            coef_slope =  (-2 * np.dot((y_train - y_hat), X_train))/m\n",
    "\n",
    "            # Updating Parameters\n",
    "            self.intercept_ -= (self.lr)*(intercept_slope)\n",
    "            self.coef_ -= (self.lr)*(coef_slope)\n",
    "\n",
    "        print(f\"Coeff : {self.coef_}\")\n",
    "        print(f\"intercept : {self.intercept_}\")\n",
    "    \n",
    "\n",
    "    def predict(self, X_test):\n",
    "        return self.intercept_ + np.dot(X_test, self.coef_)\n",
    "\n",
    "    def coef_(self):\n",
    "        return self.coef_\n",
    "\n",
    "    def intercept_(self):\n",
    "        return self.intercept_"
   ]
  },
  {
   "cell_type": "code",
   "execution_count": 52,
   "metadata": {},
   "outputs": [
    {
     "name": "stdout",
     "output_type": "stream",
     "text": [
      "Coeff : [  23.72258115 -153.73159869  468.33623372  312.6634481   -29.57078448\n",
      " -101.98457793 -193.13547041  109.88215911  425.62365976  108.08959706]\n",
      "intercept : 152.04695545523967\n"
     ]
    }
   ],
   "source": [
    "model = GDRegressor(0.4, 1000)\n",
    "\n",
    "model.fit(X_train, y_train)"
   ]
  },
  {
   "cell_type": "code",
   "execution_count": 53,
   "metadata": {},
   "outputs": [
    {
     "name": "stdout",
     "output_type": "stream",
     "text": [
      " R2 score : 0.45392659741468355\n"
     ]
    }
   ],
   "source": [
    "print(f\" R2 score : {r2_score(y_test, model.predict(X_test))}\")"
   ]
  }
 ],
 "metadata": {
  "kernelspec": {
   "display_name": "Python 3",
   "language": "python",
   "name": "python3"
  },
  "language_info": {
   "codemirror_mode": {
    "name": "ipython",
    "version": 3
   },
   "file_extension": ".py",
   "mimetype": "text/x-python",
   "name": "python",
   "nbconvert_exporter": "python",
   "pygments_lexer": "ipython3",
   "version": "3.11.2"
  },
  "orig_nbformat": 4
 },
 "nbformat": 4,
 "nbformat_minor": 2
}
