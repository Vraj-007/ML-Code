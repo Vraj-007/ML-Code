{
 "cells": [
  {
   "cell_type": "code",
   "execution_count": 1,
   "metadata": {},
   "outputs": [],
   "source": [
    "from sklearn.datasets import load_diabetes\n",
    "import numpy as np\n",
    "from sklearn.linear_model import LinearRegression\n",
    "from sklearn.metrics import r2_score\n",
    "from sklearn.model_selection import train_test_split"
   ]
  },
  {
   "cell_type": "code",
   "execution_count": 2,
   "metadata": {},
   "outputs": [],
   "source": [
    "X, y = load_diabetes(return_X_y=True)\n"
   ]
  },
  {
   "cell_type": "code",
   "execution_count": 3,
   "metadata": {},
   "outputs": [
    {
     "name": "stdout",
     "output_type": "stream",
     "text": [
      " X shape : (442, 10)\n",
      " y shape : (442,)\n"
     ]
    }
   ],
   "source": [
    "print(f\" X shape : {X.shape}\")\n",
    "print(f\" y shape : {y.shape}\")"
   ]
  },
  {
   "cell_type": "code",
   "execution_count": 4,
   "metadata": {},
   "outputs": [],
   "source": [
    "X_train, X_test, y_train, y_test = train_test_split(X, y, test_size=0.2, random_state=2)"
   ]
  },
  {
   "cell_type": "code",
   "execution_count": 5,
   "metadata": {},
   "outputs": [
    {
     "name": "stdout",
     "output_type": "stream",
     "text": [
      "r2 score : 0.4399338661568968\n"
     ]
    }
   ],
   "source": [
    "model = LinearRegression()\n",
    "\n",
    "model.fit(X_train, y_train)\n",
    "\n",
    "print(f\"r2 score : {r2_score(y_test, model.predict(X_test))}\")"
   ]
  },
  {
   "cell_type": "code",
   "execution_count": 33,
   "metadata": {},
   "outputs": [],
   "source": [
    "class SGDRegressor:\n",
    "\n",
    "    def __init__(self, learning_rate = 0.01, epochs = 50):\n",
    "        self.lr = learning_rate\n",
    "        self.epochs = epochs\n",
    "        self.coef_ = None\n",
    "        self.intercept_ = None\n",
    "\n",
    "    def fit(self, X_train, y_train):\n",
    "        # init coeffs and intercept\n",
    "        self.intercept_ = 0\n",
    "        self.coef_ = np.ones(X_train.shape[1])\n",
    "\n",
    "        m = X_train.shape[0]\n",
    "\n",
    "        for i in range(self.epochs):\n",
    "            for j in range(m):\n",
    "                # Selecting a random point\n",
    "                idx = np.random.randint(0, m) # Range as parameters\n",
    "\n",
    "                # Calculating y_hat for selected random point\n",
    "                y_hat = np.dot(self.coef_, X_train[idx]) + self.intercept_\n",
    "\n",
    "                # intercept slope\n",
    "                intercept_slope = -2 * (y_train[idx] - y_hat)\n",
    "                # Coef slope\n",
    "                coef_slope = -2 * np.dot(y_train[idx] - y_hat, X_train[idx])\n",
    "\n",
    "                # Update intercept\n",
    "                self.intercept_ -= (self.lr)*(intercept_slope)\n",
    "                # Update coef\n",
    "                self.coef_ -= (self.lr)*(coef_slope)\n",
    "\n",
    "\n",
    "\n",
    "        print(f\"Coeff : \\n {self.coef_}\\n\")\n",
    "        print(f\"intercept : {self.intercept_}\\n\")\n",
    "    \n",
    "\n",
    "    def predict(self, X_test):\n",
    "        return self.intercept_ + np.dot(X_test, self.coef_)\n",
    "\n",
    "    def coef_(self):\n",
    "        return self.coef_\n",
    "\n",
    "    def intercept_(self):\n",
    "        return self.intercept_"
   ]
  },
  {
   "cell_type": "code",
   "execution_count": 36,
   "metadata": {},
   "outputs": [
    {
     "name": "stdout",
     "output_type": "stream",
     "text": [
      "Coeff : \n",
      " [  44.67131393 -111.13766234  404.66333233  275.05958501    5.27934054\n",
      "  -51.1962831  -186.49097706  127.36491698  363.15283639  126.03683216]\n",
      "\n",
      "intercept : 152.1832030109251\n",
      "\n",
      "r2 Score : 0.44780568761234174\n"
     ]
    }
   ],
   "source": [
    "model = SGDRegressor(0.01, 70)\n",
    "\n",
    "model.fit(X_train, y_train)\n",
    "\n",
    "\n",
    "print(f\"r2 Score : {r2_score(y_test, model.predict(X_test))}\")"
   ]
  }
 ],
 "metadata": {
  "kernelspec": {
   "display_name": "Python 3",
   "language": "python",
   "name": "python3"
  },
  "language_info": {
   "codemirror_mode": {
    "name": "ipython",
    "version": 3
   },
   "file_extension": ".py",
   "mimetype": "text/x-python",
   "name": "python",
   "nbconvert_exporter": "python",
   "pygments_lexer": "ipython3",
   "version": "3.11.2"
  },
  "orig_nbformat": 4
 },
 "nbformat": 4,
 "nbformat_minor": 2
}
